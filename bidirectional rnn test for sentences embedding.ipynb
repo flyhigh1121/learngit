{
 "cells": [
  {
   "cell_type": "code",
   "execution_count": 2,
   "metadata": {
    "collapsed": true
   },
   "outputs": [
    {
     "name": "stdout",
     "output_type": "stream",
     "text": [
      "Collecting tensorflow==1.5\n",
      "  Using cached https://files.pythonhosted.org/packages/04/79/a37d0b373757b4d283c674a64127bd8864d69f881c639b1ee5953e2d9301/tensorflow-1.5.0-cp36-cp36m-manylinux1_x86_64.whl\n",
      "Requirement already satisfied: tensorflow-tensorboard<1.6.0,>=1.5.0 in /opt/conda/lib/python3.6/site-packages (from tensorflow==1.5)\n",
      "Collecting numpy>=1.12.1 (from tensorflow==1.5)\n",
      "  Downloading https://files.pythonhosted.org/packages/fe/94/7049fed8373c52839c8cde619acaf2c9b83082b935e5aa8c0fa27a4a8bcc/numpy-1.15.1-cp36-cp36m-manylinux1_x86_64.whl (13.9MB)\n",
      "\u001b[K    100% |████████████████████████████████| 13.9MB 19kB/s  eta 0:00:01\n",
      "\u001b[?25hRequirement already satisfied: wheel>=0.26 in /opt/conda/lib/python3.6/site-packages (from tensorflow==1.5)\n",
      "Requirement already satisfied: six>=1.10.0 in /opt/conda/lib/python3.6/site-packages (from tensorflow==1.5)\n",
      "Requirement already satisfied: protobuf>=3.4.0 in /opt/conda/lib/python3.6/site-packages (from tensorflow==1.5)\n",
      "Requirement already satisfied: absl-py>=0.1.6 in /opt/conda/lib/python3.6/site-packages (from tensorflow==1.5)\n",
      "Requirement already satisfied: markdown>=2.6.8 in /opt/conda/lib/python3.6/site-packages (from tensorflow-tensorboard<1.6.0,>=1.5.0->tensorflow==1.5)\n",
      "Requirement already satisfied: html5lib==0.9999999 in /opt/conda/lib/python3.6/site-packages (from tensorflow-tensorboard<1.6.0,>=1.5.0->tensorflow==1.5)\n",
      "Requirement already satisfied: bleach==1.5.0 in /opt/conda/lib/python3.6/site-packages (from tensorflow-tensorboard<1.6.0,>=1.5.0->tensorflow==1.5)\n",
      "Requirement already satisfied: werkzeug>=0.11.10 in /opt/conda/lib/python3.6/site-packages (from tensorflow-tensorboard<1.6.0,>=1.5.0->tensorflow==1.5)\n",
      "Requirement already satisfied: setuptools in /opt/conda/lib/python3.6/site-packages (from protobuf>=3.4.0->tensorflow==1.5)\n",
      "Installing collected packages: numpy, tensorflow\n",
      "Successfully installed numpy-1.15.1 tensorflow-1.5.0\n",
      "\u001b[33mYou are using pip version 9.0.3, however version 18.0 is available.\n",
      "You should consider upgrading via the 'pip install --upgrade pip' command.\u001b[0m\n"
     ]
    }
   ],
   "source": [
    "#!pip install tensorflow==1.5"
   ]
  },
  {
   "cell_type": "code",
   "execution_count": 198,
   "metadata": {},
   "outputs": [],
   "source": [
    "import os\n",
    "import tensorflow as tf\n",
    "os.chdir('/home/jovyan/work/data/conversation-structure-analysis/')\n",
    "#!pip install --upgrade --user tensorflow\n",
    "#!git clone https://github.com/tensorflow/tensorflow\n",
    "#!cd tensorflow\n",
    "#!git checkout"
   ]
  },
  {
   "cell_type": "code",
   "execution_count": 199,
   "metadata": {},
   "outputs": [],
   "source": [
    "%run prerequisite_packages.ipynb\n",
    "%run preprocessing_functions.ipynb\n",
    "%run get_stopwords.ipynb\n",
    "%run import_hand_labelled_data.ipynb"
   ]
  },
  {
   "cell_type": "code",
   "execution_count": 200,
   "metadata": {},
   "outputs": [],
   "source": [
    "N = 20000\n",
    "version = 1\n",
    "df, train_turns, test_turns, test_labels, lengths = get_samples(version, size_n = N, document_level = 'turn', agent = 'all')\n"
   ]
  },
  {
   "cell_type": "code",
   "execution_count": 201,
   "metadata": {},
   "outputs": [],
   "source": [
    "train_turns = df['message'].apply(lambda x: str(x).lower().strip())\n",
    "train_turns = np.array(train_turns)\n",
    "\n",
    "\n",
    "def fasttext_text_vect(model, train_turns):\n",
    "    txt_path = \"\"\"./data/df_with_embedding.txt\"\"\"\n",
    "    with open(txt_path, 'w') as tmp:\n",
    "        for _ in train_turns:\n",
    "            tmp.write(\"%s\\n\" %_)    \n",
    "    return\n",
    "    #out_bytes = subprocess.check_output(\"\"\"../fastText-0.1.0/fasttext print-sentence-vectors \"\"\" + model + \"\"\" < \"\"\" + txt_path, shell = True)     \n",
    "    #return out_bytes.decode('utf-8')\n",
    "fasttext_text_vect(None, train_turns)"
   ]
  },
  {
   "cell_type": "code",
   "execution_count": 202,
   "metadata": {},
   "outputs": [],
   "source": [
    "embeddings = []\n",
    "with open('/home/jovyan/work/data/conversation-structure-analysis/data/pure_sentence_embedding.txt', 'r') as vec_file:\n",
    "    for l in vec_file.readlines():\n",
    "        embeddings.append([float(_) for _ in l.split(\" \")[-301:-1]])\n",
    "        \n",
    "#embeddings = np.array(embeddings) \n"
   ]
  },
  {
   "cell_type": "code",
   "execution_count": 203,
   "metadata": {},
   "outputs": [],
   "source": [
    "import scipy.sparse as sparse\n",
    "\n",
    "arr = sparse.coo_matrix(embeddings, shape= np.array(embeddings).shape)\n",
    "df['newcol'] = arr.toarray().tolist()"
   ]
  },
  {
   "cell_type": "code",
   "execution_count": 188,
   "metadata": {},
   "outputs": [],
   "source": [
    "#df.to_csv('./data/df_with_embedding.csv', sep = ',')"
   ]
  },
  {
   "cell_type": "code",
   "execution_count": 204,
   "metadata": {},
   "outputs": [
    {
     "data": {
      "text/html": [
       "<div>\n",
       "<style scoped>\n",
       "    .dataframe tbody tr th:only-of-type {\n",
       "        vertical-align: middle;\n",
       "    }\n",
       "\n",
       "    .dataframe tbody tr th {\n",
       "        vertical-align: top;\n",
       "    }\n",
       "\n",
       "    .dataframe thead th {\n",
       "        text-align: right;\n",
       "    }\n",
       "</style>\n",
       "<table border=\"1\" class=\"dataframe\">\n",
       "  <thead>\n",
       "    <tr style=\"text-align: right;\">\n",
       "      <th></th>\n",
       "      <th>Unnamed: 0</th>\n",
       "      <th>conv_uid</th>\n",
       "      <th>site_uid</th>\n",
       "      <th>message</th>\n",
       "      <th>agent</th>\n",
       "      <th>hand_label</th>\n",
       "      <th>newcol</th>\n",
       "    </tr>\n",
       "  </thead>\n",
       "  <tbody>\n",
       "    <tr>\n",
       "      <th>0</th>\n",
       "      <td>0</td>\n",
       "      <td>ha-54621387</td>\n",
       "      <td>ha-4341</td>\n",
       "      <td>Bonjour si nous arrivons le dimanche matin ver...</td>\n",
       "      <td>visitor</td>\n",
       "      <td>greeting, ask_for_product_information</td>\n",
       "      <td>[0.065945, 0.010356, 0.0035353, 0.023578, -0.0...</td>\n",
       "    </tr>\n",
       "    <tr>\n",
       "      <th>1</th>\n",
       "      <td>1</td>\n",
       "      <td>ha-54621387</td>\n",
       "      <td>ha-4341</td>\n",
       "      <td>Bonjour ! La réception de l’hôtel est ouverte ...</td>\n",
       "      <td>operator</td>\n",
       "      <td>greeting, send_product_information</td>\n",
       "      <td>[0.02754, 0.023644, 0.0081571, 0.0039379, -0.0...</td>\n",
       "    </tr>\n",
       "  </tbody>\n",
       "</table>\n",
       "</div>"
      ],
      "text/plain": [
       "   Unnamed: 0     conv_uid site_uid  \\\n",
       "0           0  ha-54621387  ha-4341   \n",
       "1           1  ha-54621387  ha-4341   \n",
       "\n",
       "                                             message     agent  \\\n",
       "0  Bonjour si nous arrivons le dimanche matin ver...   visitor   \n",
       "1  Bonjour ! La réception de l’hôtel est ouverte ...  operator   \n",
       "\n",
       "                              hand_label  \\\n",
       "0  greeting, ask_for_product_information   \n",
       "1     greeting, send_product_information   \n",
       "\n",
       "                                              newcol  \n",
       "0  [0.065945, 0.010356, 0.0035353, 0.023578, -0.0...  \n",
       "1  [0.02754, 0.023644, 0.0081571, 0.0039379, -0.0...  "
      ]
     },
     "execution_count": 204,
     "metadata": {},
     "output_type": "execute_result"
    }
   ],
   "source": [
    "df_all = pd.read_csv('./data/df_with_embedding.csv', sep = ',')\n",
    "df = df_all[0:5000]\n",
    "\n",
    "del df_all\n",
    "\n",
    "df[0:2]"
   ]
  },
  {
   "cell_type": "code",
   "execution_count": 205,
   "metadata": {},
   "outputs": [
    {
     "name": "stdout",
     "output_type": "stream",
     "text": [
      "Number of conversations: 509\n"
     ]
    }
   ],
   "source": [
    "import ast\n",
    "\n",
    "\n",
    "message_series = df['message']\n",
    "agent_series = df['agent']\n",
    "\n",
    "X_train = []\n",
    "Y_train = []\n",
    "\n",
    "count_v = count_a = 0\n",
    "\n",
    "\n",
    "grp_lst = df.groupby('conv_uid').groups.items() \n",
    "\n",
    "for key, items in grp_lst:\n",
    "    #print(key)\n",
    "    X_temp = []\n",
    "    Y_temp = []\n",
    "    items = list(items)\n",
    "    if df['agent'].iloc[items[0]]  == 'visitor':\n",
    "        \n",
    "        count_v +=1\n",
    "        \n",
    "    else:\n",
    "        count_a +=1\n",
    "    \n",
    "    \n",
    "    grp_agent = np.array([df['agent'].iloc[_] for _ in items])\n",
    "    #print ('grp_agent {}'.format(grp_agent))\n",
    "    visitor_turns_index = np.where(grp_agent == 'visitor')[0]\n",
    "    #print ('items:{}'.format(items))\n",
    "    \n",
    "    #print ('visitor index {}'.format(visitor_turns_index))\n",
    "    if len(visitor_turns_index)>0:\n",
    "        old_first = first = items[visitor_turns_index[0]]\n",
    "     #   print ('visitor first {}'.format(first))\n",
    "    \n",
    "        \n",
    "        while(first <= items[-1]):\n",
    "            \n",
    "            #print ('first {} and last {}'.format(first, items[-1]))\n",
    "        \n",
    "            #msg = df['message'].iloc[first]\n",
    "            vec = np.array([ast.literal_eval(df['newcol'].iloc[first])])\n",
    "            j = 1\n",
    "            while ((first+j) <= items[-1] and df['agent'].iloc[first+j] == df['agent'].iloc[old_first]):\n",
    "                #msg = msg + df['message'].iloc[first+j]\n",
    "                vec = vec + np.array([ast.literal_eval(df['newcol'].iloc[first+j])])\n",
    "                j = j+1\n",
    "            \n",
    "            \n",
    "            if df['agent'].iloc[old_first] == 'visitor' and old_first < items[-1]:\n",
    "            \n",
    "                X_temp.append((list(range(old_first, first+j)), vec*1.0/j))\n",
    "                \n",
    "            if df['agent'].iloc[old_first] == 'operator':\n",
    "                \n",
    "                Y_temp.append((list(range(old_first, first+j)), vec*1.0/j))\n",
    "            \n",
    "            old_first = first + j\n",
    "            first = first + j\n",
    "            \n",
    "            #print ('now first is {}'.format(first))\n",
    "    \n",
    "    if len(X_temp)>0 and len(Y_temp)>0:\n",
    "        X_train.append(X_temp)\n",
    "        Y_train.append(Y_temp)\n",
    "\n",
    "print('Number of conversations: {}'.format(len(X_train)))"
   ]
  },
  {
   "cell_type": "code",
   "execution_count": 206,
   "metadata": {},
   "outputs": [
    {
     "name": "stdout",
     "output_type": "stream",
     "text": [
      "length of x_train 509\n",
      "longest turns: 29\n"
     ]
    },
    {
     "data": {
      "text/plain": [
       "(array([235., 152.,  64.,  29.,  12.,   9.,   6.,   0.,   1.,   1.]),\n",
       " array([ 1. ,  3.8,  6.6,  9.4, 12.2, 15. , 17.8, 20.6, 23.4, 26.2, 29. ]),\n",
       " <a list of 10 Patch objects>)"
      ]
     },
     "execution_count": 206,
     "metadata": {},
     "output_type": "execute_result"
    },
    {
     "data": {
      "image/png": "[encoded data removed]",
      "text/plain": [
       "<Figure size 432x288 with 1 Axes>"
      ]
     },
     "metadata": {},
     "output_type": "display_data"
    }
   ],
   "source": [
    "x_train = [[_[1] for _ in x_seq] for x_seq in X_train]\n",
    "y_train = [[_[1] for _ in y_seq] for y_seq in Y_train]\n",
    "\n",
    "\n",
    "print ('length of x_train {}'.format(len(x_train)))\n",
    "#print ('length of Y_train {}'.format(len(Y_train)))\n",
    "\n",
    "lengths = [len(_) for _ in x_train]\n",
    "maxlen = max(lengths)\n",
    "print ('longest turns: {}'.format(maxlen))\n",
    "\n",
    "import matplotlib.pyplot as plt\n",
    "\n",
    "plt.hist(lengths)\n",
    "\n"
   ]
  },
  {
   "cell_type": "code",
   "execution_count": 207,
   "metadata": {},
   "outputs": [],
   "source": [
    "from sklearn.feature_extraction.text import CountVectorizer\n",
    "\n",
    "maxlen = 20\n",
    "\n",
    "def padding_turns(sequence, maxlen):\n",
    "    if len(sequence) < maxlen:\n",
    "        sequence = sequence + list(np.tile(np.zeros(shape = sequence[0].shape), ((maxlen - len(sequence)), 1,1))) ## [['PAD']]*(maxlen - len(sequence))\n",
    "    elif len(sequence) > maxlen:\n",
    "        sequence = sequence[0:maxlen]\n",
    "    else:\n",
    "        sequence = sequence\n",
    "    \n",
    "    return sequence\n",
    "\n",
    "\n",
    "x_train = np.array([padding_turns(x_train[i], maxlen) for i in range(len(x_train))])\n",
    "\n",
    "y_train = np.array([padding_turns(y_train[i], maxlen) for i in range(len(y_train))])\n",
    "\n",
    "#print(y_train[0])"
   ]
  },
  {
   "cell_type": "code",
   "execution_count": 48,
   "metadata": {},
   "outputs": [
    {
     "data": {
      "text/plain": [
       "<3x6 sparse matrix of type '<class 'numpy.int64'>'\n",
       "\twith 12 stored elements in Compressed Sparse Row format>"
      ]
     },
     "execution_count": 48,
     "metadata": {},
     "output_type": "execute_result"
    }
   ],
   "source": [
    "\"\"\"\n",
    "tf_vectorizer = CountVectorizer(max_df=0.95, min_df=2,\n",
    "                                max_features=100,\n",
    "                                stop_words='english')\n",
    "tf = tf_vectorizer.fit_transform(data_samples)\n",
    "\n",
    "tf\n",
    "\n",
    "\"\"\" "
   ]
  },
  {
   "cell_type": "code",
   "execution_count": 208,
   "metadata": {},
   "outputs": [],
   "source": [
    "from __future__ import print_function\n",
    "import numpy as np\n",
    "\n",
    "from keras.preprocessing import sequence\n",
    "from keras.models import Sequential\n",
    "from keras.layers import Dense, Dropout, Embedding, LSTM, Bidirectional\n"
   ]
  },
  {
   "cell_type": "code",
   "execution_count": 210,
   "metadata": {},
   "outputs": [
    {
     "name": "stdout",
     "output_type": "stream",
     "text": [
      "shape of x_train:(509, 20, 300)\n",
      "shape of y_train:(509, 20, 300)\n"
     ]
    }
   ],
   "source": [
    "max_features = 300 \n",
    "# cut texts after this number of words\n",
    "# (among top max_features most common words)\n",
    "batch_size = 32\n",
    "x_train = x_train.reshape((len(x_train), maxlen, 300))\n",
    "y_train = y_train.reshape((len(y_train), maxlen, 300))\n",
    "print ('shape of x_train:{}'.format(x_train.shape))\n",
    "print ('shape of y_train:{}'.format(y_train.shape))"
   ]
  },
  {
   "cell_type": "code",
   "execution_count": 211,
   "metadata": {},
   "outputs": [
    {
     "name": "stdout",
     "output_type": "stream",
     "text": [
      "Train...\n"
     ]
    },
    {
     "ename": "ValueError",
     "evalue": "Error when checking input: expected embedding_11_input to have 2 dimensions, but got array with shape (509, 20, 300)",
     "output_type": "error",
     "traceback": [
      "\u001b[0;31m---------------------------------------------------------------------------\u001b[0m",
      "\u001b[0;31mValueError\u001b[0m                                Traceback (most recent call last)",
      "\u001b[0;32m<ipython-input-211-8c5a7b9e5ec6>\u001b[0m in \u001b[0;36m<module>\u001b[0;34m()\u001b[0m\n\u001b[1;32m     11\u001b[0m model.fit(x_train, y_train,\n\u001b[1;32m     12\u001b[0m           \u001b[0mbatch_size\u001b[0m\u001b[0;34m=\u001b[0m \u001b[0mbatch_size\u001b[0m\u001b[0;34m,\u001b[0m\u001b[0;34m\u001b[0m\u001b[0m\n\u001b[0;32m---> 13\u001b[0;31m           epochs = 4)\n\u001b[0m\u001b[1;32m     14\u001b[0m \u001b[0;34m\u001b[0m\u001b[0m\n\u001b[1;32m     15\u001b[0m \u001b[0;34m\u001b[0m\u001b[0m\n",
      "\u001b[0;32m/opt/conda/lib/python3.6/site-packages/keras/models.py\u001b[0m in \u001b[0;36mfit\u001b[0;34m(self, x, y, batch_size, epochs, verbose, callbacks, validation_split, validation_data, shuffle, class_weight, sample_weight, initial_epoch, steps_per_epoch, validation_steps, **kwargs)\u001b[0m\n\u001b[1;32m   1000\u001b[0m                               \u001b[0minitial_epoch\u001b[0m\u001b[0;34m=\u001b[0m\u001b[0minitial_epoch\u001b[0m\u001b[0;34m,\u001b[0m\u001b[0;34m\u001b[0m\u001b[0m\n\u001b[1;32m   1001\u001b[0m                               \u001b[0msteps_per_epoch\u001b[0m\u001b[0;34m=\u001b[0m\u001b[0msteps_per_epoch\u001b[0m\u001b[0;34m,\u001b[0m\u001b[0;34m\u001b[0m\u001b[0m\n\u001b[0;32m-> 1002\u001b[0;31m                               validation_steps=validation_steps)\n\u001b[0m\u001b[1;32m   1003\u001b[0m \u001b[0;34m\u001b[0m\u001b[0m\n\u001b[1;32m   1004\u001b[0m     def evaluate(self, x=None, y=None,\n",
      "\u001b[0;32m/opt/conda/lib/python3.6/site-packages/keras/engine/training.py\u001b[0m in \u001b[0;36mfit\u001b[0;34m(self, x, y, batch_size, epochs, verbose, callbacks, validation_split, validation_data, shuffle, class_weight, sample_weight, initial_epoch, steps_per_epoch, validation_steps, **kwargs)\u001b[0m\n\u001b[1;32m   1628\u001b[0m             \u001b[0msample_weight\u001b[0m\u001b[0;34m=\u001b[0m\u001b[0msample_weight\u001b[0m\u001b[0;34m,\u001b[0m\u001b[0;34m\u001b[0m\u001b[0m\n\u001b[1;32m   1629\u001b[0m             \u001b[0mclass_weight\u001b[0m\u001b[0;34m=\u001b[0m\u001b[0mclass_weight\u001b[0m\u001b[0;34m,\u001b[0m\u001b[0;34m\u001b[0m\u001b[0m\n\u001b[0;32m-> 1630\u001b[0;31m             batch_size=batch_size)\n\u001b[0m\u001b[1;32m   1631\u001b[0m         \u001b[0;31m# Prepare validation data.\u001b[0m\u001b[0;34m\u001b[0m\u001b[0;34m\u001b[0m\u001b[0m\n\u001b[1;32m   1632\u001b[0m         \u001b[0mdo_validation\u001b[0m \u001b[0;34m=\u001b[0m \u001b[0;32mFalse\u001b[0m\u001b[0;34m\u001b[0m\u001b[0m\n",
      "\u001b[0;32m/opt/conda/lib/python3.6/site-packages/keras/engine/training.py\u001b[0m in \u001b[0;36m_standardize_user_data\u001b[0;34m(self, x, y, sample_weight, class_weight, check_array_lengths, batch_size)\u001b[0m\n\u001b[1;32m   1474\u001b[0m                                     \u001b[0mself\u001b[0m\u001b[0;34m.\u001b[0m\u001b[0m_feed_input_shapes\u001b[0m\u001b[0;34m,\u001b[0m\u001b[0;34m\u001b[0m\u001b[0m\n\u001b[1;32m   1475\u001b[0m                                     \u001b[0mcheck_batch_axis\u001b[0m\u001b[0;34m=\u001b[0m\u001b[0;32mFalse\u001b[0m\u001b[0;34m,\u001b[0m\u001b[0;34m\u001b[0m\u001b[0m\n\u001b[0;32m-> 1476\u001b[0;31m                                     exception_prefix='input')\n\u001b[0m\u001b[1;32m   1477\u001b[0m         y = _standardize_input_data(y, self._feed_output_names,\n\u001b[1;32m   1478\u001b[0m                                     \u001b[0moutput_shapes\u001b[0m\u001b[0;34m,\u001b[0m\u001b[0;34m\u001b[0m\u001b[0m\n",
      "\u001b[0;32m/opt/conda/lib/python3.6/site-packages/keras/engine/training.py\u001b[0m in \u001b[0;36m_standardize_input_data\u001b[0;34m(data, names, shapes, check_batch_axis, exception_prefix)\u001b[0m\n\u001b[1;32m    111\u001b[0m                         \u001b[0;34m': expected '\u001b[0m \u001b[0;34m+\u001b[0m \u001b[0mnames\u001b[0m\u001b[0;34m[\u001b[0m\u001b[0mi\u001b[0m\u001b[0;34m]\u001b[0m \u001b[0;34m+\u001b[0m \u001b[0;34m' to have '\u001b[0m \u001b[0;34m+\u001b[0m\u001b[0;34m\u001b[0m\u001b[0m\n\u001b[1;32m    112\u001b[0m                         \u001b[0mstr\u001b[0m\u001b[0;34m(\u001b[0m\u001b[0mlen\u001b[0m\u001b[0;34m(\u001b[0m\u001b[0mshape\u001b[0m\u001b[0;34m)\u001b[0m\u001b[0;34m)\u001b[0m \u001b[0;34m+\u001b[0m \u001b[0;34m' dimensions, but got array '\u001b[0m\u001b[0;34m\u001b[0m\u001b[0m\n\u001b[0;32m--> 113\u001b[0;31m                         'with shape ' + str(data_shape))\n\u001b[0m\u001b[1;32m    114\u001b[0m                 \u001b[0;32mif\u001b[0m \u001b[0;32mnot\u001b[0m \u001b[0mcheck_batch_axis\u001b[0m\u001b[0;34m:\u001b[0m\u001b[0;34m\u001b[0m\u001b[0m\n\u001b[1;32m    115\u001b[0m                     \u001b[0mdata_shape\u001b[0m \u001b[0;34m=\u001b[0m \u001b[0mdata_shape\u001b[0m\u001b[0;34m[\u001b[0m\u001b[0;36m1\u001b[0m\u001b[0;34m:\u001b[0m\u001b[0;34m]\u001b[0m\u001b[0;34m\u001b[0m\u001b[0m\n",
      "\u001b[0;31mValueError\u001b[0m: Error when checking input: expected embedding_11_input to have 2 dimensions, but got array with shape (509, 20, 300)"
     ]
    }
   ],
   "source": [
    "model = Sequential()\n",
    "model.add(Embedding(input_dim = max_features, output_dim = 128, input_length = maxlen))\n",
    "model.add(Bidirectional(LSTM(128, return_sequences= True, input_shape = (20, 300))))\n",
    "model.add(Dropout(0.5))\n",
    "model.add(Dense(max_features, activation='relu'))\n",
    "\n",
    "# try using different optimizers and different optimizer configs\n",
    "model.compile('adam', 'cosine_proximity', metrics=['accuracy'])\n",
    "\n",
    "print('Train...')\n",
    "model.fit(x_train, y_train,\n",
    "          batch_size= batch_size,\n",
    "          epochs = 4)\n",
    "\n",
    "\n",
    "\n",
    "### next: meaning of embedding, how to yield hidden state of each cell of bidirectional lstm."
   ]
  },
  {
   "cell_type": "code",
   "execution_count": null,
   "metadata": {},
   "outputs": [],
   "source": []
  }
 ],
 "metadata": {
  "kernelspec": {
   "display_name": "Python 3",
   "language": "python",
   "name": "python3"
  },
  "language_info": {
   "codemirror_mode": {
    "name": "ipython",
    "version": 3
   },
   "file_extension": ".py",
   "mimetype": "text/x-python",
   "name": "python",
   "nbconvert_exporter": "python",
   "pygments_lexer": "ipython3",
   "version": "3.6.3"
  }
 },
 "nbformat": 4,
 "nbformat_minor": 2
}
